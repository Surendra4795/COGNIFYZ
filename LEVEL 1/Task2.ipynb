{
 "cells": [
  {
   "cell_type": "code",
   "execution_count": 1,
   "metadata": {},
   "outputs": [],
   "source": [
    "import pandas as pd \n",
    "import numpy as np \n",
    "import matplotlib.pyplot as plt\n",
    "url=\"https://drive.google.com/file/d/1CCwMErhA8y7_IDBl7MlqfCPUt3hb87CP/view?usp=drive_link\"\n",
    "url=\"https://drive.google.com/uc?id=\" + url.split(\"/\")[-2]\n",
    "df = pd.read_csv(url)"
   ]
  },
  {
   "cell_type": "code",
   "execution_count": 2,
   "metadata": {},
   "outputs": [
    {
     "name": "stdout",
     "output_type": "stream",
     "text": [
      "<class 'pandas.core.frame.DataFrame'>\n",
      "RangeIndex: 9551 entries, 0 to 9550\n",
      "Data columns (total 21 columns):\n",
      " #   Column                Non-Null Count  Dtype  \n",
      "---  ------                --------------  -----  \n",
      " 0   Restaurant ID         9551 non-null   int64  \n",
      " 1   Restaurant Name       9551 non-null   object \n",
      " 2   Country Code          9551 non-null   int64  \n",
      " 3   City                  9551 non-null   object \n",
      " 4   Address               9551 non-null   object \n",
      " 5   Locality              9551 non-null   object \n",
      " 6   Locality Verbose      9551 non-null   object \n",
      " 7   Longitude             9551 non-null   float64\n",
      " 8   Latitude              9551 non-null   float64\n",
      " 9   Cuisines              9542 non-null   object \n",
      " 10  Average Cost for two  9551 non-null   int64  \n",
      " 11  Currency              9551 non-null   object \n",
      " 12  Has Table booking     9551 non-null   object \n",
      " 13  Has Online delivery   9551 non-null   object \n",
      " 14  Is delivering now     9551 non-null   object \n",
      " 15  Switch to order menu  9551 non-null   object \n",
      " 16  Price range           9551 non-null   int64  \n",
      " 17  Aggregate rating      9551 non-null   float64\n",
      " 18  Rating color          9551 non-null   object \n",
      " 19  Rating text           9551 non-null   object \n",
      " 20  Votes                 9551 non-null   int64  \n",
      "dtypes: float64(3), int64(5), object(13)\n",
      "memory usage: 1.5+ MB\n"
     ]
    },
    {
     "data": {
      "text/plain": [
       "(None,\n",
       "    Restaurant ID         Restaurant Name  Country Code              City  \\\n",
       " 0        6317637        Le Petit Souffle           162       Makati City   \n",
       " 1        6304287        Izakaya Kikufuji           162       Makati City   \n",
       " 2        6300002  Heat - Edsa Shangri-La           162  Mandaluyong City   \n",
       " 3        6318506                    Ooma           162  Mandaluyong City   \n",
       " 4        6314302             Sambo Kojin           162  Mandaluyong City   \n",
       " \n",
       "                                              Address  \\\n",
       " 0  Third Floor, Century City Mall, Kalayaan Avenu...   \n",
       " 1  Little Tokyo, 2277 Chino Roces Avenue, Legaspi...   \n",
       " 2  Edsa Shangri-La, 1 Garden Way, Ortigas, Mandal...   \n",
       " 3  Third Floor, Mega Fashion Hall, SM Megamall, O...   \n",
       " 4  Third Floor, Mega Atrium, SM Megamall, Ortigas...   \n",
       " \n",
       "                                      Locality  \\\n",
       " 0   Century City Mall, Poblacion, Makati City   \n",
       " 1  Little Tokyo, Legaspi Village, Makati City   \n",
       " 2  Edsa Shangri-La, Ortigas, Mandaluyong City   \n",
       " 3      SM Megamall, Ortigas, Mandaluyong City   \n",
       " 4      SM Megamall, Ortigas, Mandaluyong City   \n",
       " \n",
       "                                     Locality Verbose   Longitude   Latitude  \\\n",
       " 0  Century City Mall, Poblacion, Makati City, Mak...  121.027535  14.565443   \n",
       " 1  Little Tokyo, Legaspi Village, Makati City, Ma...  121.014101  14.553708   \n",
       " 2  Edsa Shangri-La, Ortigas, Mandaluyong City, Ma...  121.056831  14.581404   \n",
       " 3  SM Megamall, Ortigas, Mandaluyong City, Mandal...  121.056475  14.585318   \n",
       " 4  SM Megamall, Ortigas, Mandaluyong City, Mandal...  121.057508  14.584450   \n",
       " \n",
       "                            Cuisines  ...          Currency Has Table booking  \\\n",
       " 0        French, Japanese, Desserts  ...  Botswana Pula(P)               Yes   \n",
       " 1                          Japanese  ...  Botswana Pula(P)               Yes   \n",
       " 2  Seafood, Asian, Filipino, Indian  ...  Botswana Pula(P)               Yes   \n",
       " 3                   Japanese, Sushi  ...  Botswana Pula(P)                No   \n",
       " 4                  Japanese, Korean  ...  Botswana Pula(P)               Yes   \n",
       " \n",
       "   Has Online delivery Is delivering now Switch to order menu Price range  \\\n",
       " 0                  No                No                   No           3   \n",
       " 1                  No                No                   No           3   \n",
       " 2                  No                No                   No           4   \n",
       " 3                  No                No                   No           4   \n",
       " 4                  No                No                   No           4   \n",
       " \n",
       "    Aggregate rating  Rating color Rating text Votes  \n",
       " 0               4.8    Dark Green   Excellent   314  \n",
       " 1               4.5    Dark Green   Excellent   591  \n",
       " 2               4.4         Green   Very Good   270  \n",
       " 3               4.9    Dark Green   Excellent   365  \n",
       " 4               4.8    Dark Green   Excellent   229  \n",
       " \n",
       " [5 rows x 21 columns])"
      ]
     },
     "execution_count": 2,
     "metadata": {},
     "output_type": "execute_result"
    }
   ],
   "source": [
    "df.info(), df.head()"
   ]
  },
  {
   "cell_type": "code",
   "execution_count": 3,
   "metadata": {},
   "outputs": [
    {
     "name": "stdout",
     "output_type": "stream",
     "text": [
      "Index(['Restaurant ID', 'Restaurant Name', 'Country Code', 'City', 'Address',\n",
      "       'Locality', 'Locality Verbose', 'Longitude', 'Latitude', 'Cuisines',\n",
      "       'Average Cost for two', 'Currency', 'Has Table booking',\n",
      "       'Has Online delivery', 'Is delivering now', 'Switch to order menu',\n",
      "       'Price range', 'Aggregate rating', 'Rating color', 'Rating text',\n",
      "       'Votes'],\n",
      "      dtype='object')\n"
     ]
    }
   ],
   "source": [
    "print(df.columns)"
   ]
  },
  {
   "cell_type": "code",
   "execution_count": 7,
   "metadata": {},
   "outputs": [
    {
     "name": "stdout",
     "output_type": "stream",
     "text": [
      "City with the highest number of restaurants: New Delhi\n",
      "City\n",
      "New Delhi    5473\n",
      "Name: count, dtype: int64\n"
     ]
    }
   ],
   "source": [
    "city_counts = df[\"City\"].value_counts()\n",
    "restaurants_no = city_counts.head(1)\n",
    "print(\"City with the highest number of restaurants:\", city_counts.idxmax())\n",
    "print(restaurants_no)"
   ]
  },
  {
   "cell_type": "code",
   "execution_count": 9,
   "metadata": {},
   "outputs": [
    {
     "name": "stdout",
     "output_type": "stream",
     "text": [
      "The average rating of each city: City\n",
      "Abu Dhabi          4.300000\n",
      "Agra               3.965000\n",
      "Ahmedabad          4.161905\n",
      "Albany             3.555000\n",
      "Allahabad          3.395000\n",
      "                     ...   \n",
      "Weirton            3.900000\n",
      "Wellington City    4.250000\n",
      "Winchester Bay     3.200000\n",
      "Yorkton            3.300000\n",
      "��stanbul          4.292857\n",
      "Name: Aggregate rating, Length: 141, dtype: float64\n"
     ]
    }
   ],
   "source": [
    "city_avg_rating = df.groupby(\"City\")[\"Aggregate rating\"].mean()\n",
    "print(\"The average rating of each city:\",city_avg_rating)"
   ]
  },
  {
   "cell_type": "code",
   "execution_count": 11,
   "metadata": {},
   "outputs": [
    {
     "name": "stdout",
     "output_type": "stream",
     "text": [
      "The city with the highest average rating is: Inner City, Rating = 4.9\n"
     ]
    }
   ],
   "source": [
    "highest_rated_city = city_avg_rating.idxmax()\n",
    "highest_avg_rating = city_avg_rating.max()\n",
    "print(f\"The city with the highest average rating is: {highest_rated_city}, Rating = {highest_avg_rating}\")\n"
   ]
  }
 ],
 "metadata": {
  "kernelspec": {
   "display_name": "Python 3",
   "language": "python",
   "name": "python3"
  },
  "language_info": {
   "codemirror_mode": {
    "name": "ipython",
    "version": 3
   },
   "file_extension": ".py",
   "mimetype": "text/x-python",
   "name": "python",
   "nbconvert_exporter": "python",
   "pygments_lexer": "ipython3",
   "version": "3.12.9"
  }
 },
 "nbformat": 4,
 "nbformat_minor": 2
}
