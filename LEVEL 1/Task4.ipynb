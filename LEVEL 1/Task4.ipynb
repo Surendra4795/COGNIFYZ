{
 "cells": [
  {
   "cell_type": "code",
   "execution_count": 1,
   "metadata": {},
   "outputs": [],
   "source": [
    "import pandas as pd \n",
    "import numpy as np \n",
    "import matplotlib.pyplot as plt\n",
    "url=\"https://drive.google.com/file/d/1CCwMErhA8y7_IDBl7MlqfCPUt3hb87CP/view?usp=drive_link\"\n",
    "url=\"https://drive.google.com/uc?id=\" + url.split(\"/\")[-2]\n",
    "df = pd.read_csv(url)"
   ]
  },
  {
   "cell_type": "code",
   "execution_count": 2,
   "metadata": {},
   "outputs": [
    {
     "name": "stdout",
     "output_type": "stream",
     "text": [
      "Index(['Restaurant ID', 'Restaurant Name', 'Country Code', 'City', 'Address',\n",
      "       'Locality', 'Locality Verbose', 'Longitude', 'Latitude', 'Cuisines',\n",
      "       'Average Cost for two', 'Currency', 'Has Table booking',\n",
      "       'Has Online delivery', 'Is delivering now', 'Switch to order menu',\n",
      "       'Price range', 'Aggregate rating', 'Rating color', 'Rating text',\n",
      "       'Votes'],\n",
      "      dtype='object')\n"
     ]
    }
   ],
   "source": [
    "print(df.columns)"
   ]
  },
  {
   "cell_type": "code",
   "execution_count": 4,
   "metadata": {},
   "outputs": [
    {
     "name": "stdout",
     "output_type": "stream",
     "text": [
      "Percentage of restaurants offering online delivery: 2451\n"
     ]
    }
   ],
   "source": [
    "online_delivery_percentage = df[\"Has Online delivery\"].value_counts().get('Yes', 0)\n",
    "print(f\"Percentage of restaurants offering online delivery:\",online_delivery_percentage)"
   ]
  },
  {
   "cell_type": "code",
   "execution_count": 9,
   "metadata": {},
   "outputs": [
    {
     "name": "stdout",
     "output_type": "stream",
     "text": [
      "Restaurants with no online delivery: 7100\n"
     ]
    },
    {
     "name": "stderr",
     "output_type": "stream",
     "text": [
      "C:\\Users\\suren\\AppData\\Local\\Temp\\ipykernel_33452\\2853794358.py:1: FutureWarning: Series.__getitem__ treating keys as positions is deprecated. In a future version, integer keys will always be treated as labels (consistent with DataFrame behavior). To access a value by position, use `ser.iloc[pos]`\n",
      "  no_online_delivery_count = df[\"Has Online delivery\"].value_counts().get(0, 0)\n"
     ]
    }
   ],
   "source": [
    "no_online_delivery_count = df[\"Has Online delivery\"].value_counts().get(0, 0)\n",
    "print(f\"Restaurants with no online delivery: {no_online_delivery_count}\")"
   ]
  },
  {
   "cell_type": "code",
   "execution_count": 15,
   "metadata": {},
   "outputs": [],
   "source": [
    "df[\"Has Online delivery\"] = df[\"Has Online delivery\"].astype(str).str.strip().str.lower().map({\"yes\": 1, \"no\": 0}).fillna(0).astype(int)"
   ]
  },
  {
   "cell_type": "code",
   "execution_count": 17,
   "metadata": {},
   "outputs": [
    {
     "name": "stdout",
     "output_type": "stream",
     "text": [
      "Total % of Online Delivery: 25.66%\n"
     ]
    }
   ],
   "source": [
    "row_count = len(df)\n",
    "online_delivery = df[\"Has Online delivery\"].sum()\n",
    "percentage_of_online_delivery = round((online_delivery / row_count) * 100, 2)\n",
    "print(f\"Total % of Online Delivery: {percentage_of_online_delivery}%\")"
   ]
  },
  {
   "cell_type": "code",
   "execution_count": 20,
   "metadata": {},
   "outputs": [],
   "source": [
    "row_count = len(df)\n",
    "online_delivery = df[\"Has Online delivery\"].sum()\n",
    "no_online_delivery = row_count - online_delivery"
   ]
  },
  {
   "cell_type": "code",
   "execution_count": 21,
   "metadata": {},
   "outputs": [
    {
     "name": "stdout",
     "output_type": "stream",
     "text": [
      "Total % where Online Delivery is not present: 74.34%\n"
     ]
    }
   ],
   "source": [
    "percentage_of_no_online_delivery = round((no_online_delivery / row_count) * 100, 2)\n",
    "print(f\"Total % where Online Delivery is not present: {percentage_of_no_online_delivery}%\")"
   ]
  },
  {
   "cell_type": "code",
   "execution_count": 24,
   "metadata": {},
   "outputs": [
    {
     "name": "stdout",
     "output_type": "stream",
     "text": [
      "Average rating of restaurants with online delivery: 3.25\n"
     ]
    }
   ],
   "source": [
    "avg_rating_with_delivery = df[df[\"Has Online delivery\"] == 1][\"Aggregate rating\"].astype(float).mean()\n",
    "print(f\"Average rating of restaurants with online delivery: {avg_rating_with_delivery:.2f}\")"
   ]
  },
  {
   "cell_type": "code",
   "execution_count": 25,
   "metadata": {},
   "outputs": [
    {
     "name": "stdout",
     "output_type": "stream",
     "text": [
      "Average rating of restaurants without online delivery: 2.47\n"
     ]
    }
   ],
   "source": [
    "avg_rating_without_delivery = df[df[\"Has Online delivery\"] == 0][\"Aggregate rating\"].astype(float).mean()\n",
    "print(f\"Average rating of restaurants without online delivery: {avg_rating_without_delivery:.2f}\")"
   ]
  },
  {
   "cell_type": "code",
   "execution_count": 27,
   "metadata": {},
   "outputs": [
    {
     "data": {
      "image/png": "[encoded data removed]",
      "text/plain": [
       "<Figure size 600x400 with 1 Axes>"
      ]
     },
     "metadata": {},
     "output_type": "display_data"
    }
   ],
   "source": [
    "labels = [\"YES\", \"NO\"]\n",
    "average_ratings = [avg_rating_with_delivery, avg_rating_without_delivery]\n",
    "colors = [\"green\", \"yellow\"]\n",
    "\n",
    "plt.figure(figsize=(6, 4))\n",
    "plt.barh(labels, average_ratings, color=colors)\n",
    "plt.ylabel(\"Online Delivery\")\n",
    "plt.xlabel(\"Average Rating\")\n",
    "plt.title(\"Comparison of Average Ratings of Online Delivery\")\n",
    "plt.show()"
   ]
  }
 ],
 "metadata": {
  "kernelspec": {
   "display_name": "Python 3",
   "language": "python",
   "name": "python3"
  },
  "language_info": {
   "codemirror_mode": {
    "name": "ipython",
    "version": 3
   },
   "file_extension": ".py",
   "mimetype": "text/x-python",
   "name": "python",
   "nbconvert_exporter": "python",
   "pygments_lexer": "ipython3",
   "version": "3.12.9"
  }
 },
 "nbformat": 4,
 "nbformat_minor": 2
}
